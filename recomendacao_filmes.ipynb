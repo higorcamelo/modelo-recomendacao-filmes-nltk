{
 "cells": [
  {
   "cell_type": "code",
   "execution_count": 34,
   "metadata": {},
   "outputs": [],
   "source": [
    "import pandas as pd\n",
    "import numpy as np\n",
    "import ast"
   ]
  },
  {
   "cell_type": "code",
   "execution_count": 35,
   "metadata": {},
   "outputs": [],
   "source": [
    "# Carregando os DataFrames\n",
    "df_filmes = pd.read_csv('data/movies.csv', low_memory=False)\n",
    "df_creditos = pd.read_csv('data/credits.csv')"
   ]
  },
  {
   "cell_type": "markdown",
   "metadata": {},
   "source": [
    "### Pré processamento de dados"
   ]
  },
  {
   "cell_type": "code",
   "execution_count": 36,
   "metadata": {},
   "outputs": [
    {
     "name": "stdout",
     "output_type": "stream",
     "text": [
      "<class 'pandas.core.frame.DataFrame'>\n",
      "RangeIndex: 4803 entries, 0 to 4802\n",
      "Data columns (total 20 columns):\n",
      " #   Column                Non-Null Count  Dtype  \n",
      "---  ------                --------------  -----  \n",
      " 0   budget                4803 non-null   int64  \n",
      " 1   genres                4803 non-null   object \n",
      " 2   homepage              1712 non-null   object \n",
      " 3   id                    4803 non-null   int64  \n",
      " 4   keywords              4803 non-null   object \n",
      " 5   original_language     4803 non-null   object \n",
      " 6   original_title        4803 non-null   object \n",
      " 7   overview              4800 non-null   object \n",
      " 8   popularity            4803 non-null   float64\n",
      " 9   production_companies  4803 non-null   object \n",
      " 10  production_countries  4803 non-null   object \n",
      " 11  release_date          4802 non-null   object \n",
      " 12  revenue               4803 non-null   int64  \n",
      " 13  runtime               4801 non-null   float64\n",
      " 14  spoken_languages      4803 non-null   object \n",
      " 15  status                4803 non-null   object \n",
      " 16  tagline               3959 non-null   object \n",
      " 17  title                 4803 non-null   object \n",
      " 18  vote_average          4803 non-null   float64\n",
      " 19  vote_count            4803 non-null   int64  \n",
      "dtypes: float64(3), int64(4), object(13)\n",
      "memory usage: 750.6+ KB\n",
      "None\n",
      "<class 'pandas.core.frame.DataFrame'>\n",
      "RangeIndex: 4803 entries, 0 to 4802\n",
      "Data columns (total 4 columns):\n",
      " #   Column    Non-Null Count  Dtype \n",
      "---  ------    --------------  ----- \n",
      " 0   movie_id  4803 non-null   int64 \n",
      " 1   title     4803 non-null   object\n",
      " 2   cast      4803 non-null   object\n",
      " 3   crew      4803 non-null   object\n",
      "dtypes: int64(1), object(3)\n",
      "memory usage: 150.2+ KB\n",
      "None\n"
     ]
    }
   ],
   "source": [
    "# Exibição dos DataFrames\n",
    "print(df_filmes.info())\n",
    "print(df_creditos.info())"
   ]
  },
  {
   "cell_type": "code",
   "execution_count": 37,
   "metadata": {},
   "outputs": [
    {
     "name": "stdout",
     "output_type": "stream",
     "text": [
      "<class 'pandas.core.frame.DataFrame'>\n",
      "RangeIndex: 4808 entries, 0 to 4807\n",
      "Data columns (total 23 columns):\n",
      " #   Column                Non-Null Count  Dtype  \n",
      "---  ------                --------------  -----  \n",
      " 0   budget                4808 non-null   int64  \n",
      " 1   genres                4808 non-null   object \n",
      " 2   homepage              1713 non-null   object \n",
      " 3   id                    4808 non-null   int64  \n",
      " 4   keywords              4808 non-null   object \n",
      " 5   original_language     4808 non-null   object \n",
      " 6   original_title        4808 non-null   object \n",
      " 7   overview              4805 non-null   object \n",
      " 8   popularity            4808 non-null   float64\n",
      " 9   production_companies  4808 non-null   object \n",
      " 10  production_countries  4808 non-null   object \n",
      " 11  release_date          4807 non-null   object \n",
      " 12  revenue               4808 non-null   int64  \n",
      " 13  runtime               4806 non-null   float64\n",
      " 14  spoken_languages      4808 non-null   object \n",
      " 15  status                4808 non-null   object \n",
      " 16  tagline               3964 non-null   object \n",
      " 17  title                 4808 non-null   object \n",
      " 18  vote_average          4808 non-null   float64\n",
      " 19  vote_count            4808 non-null   int64  \n",
      " 20  movie_id              4808 non-null   int64  \n",
      " 21  cast                  4808 non-null   object \n",
      " 22  crew                  4808 non-null   object \n",
      "dtypes: float64(3), int64(5), object(15)\n",
      "memory usage: 864.1+ KB\n"
     ]
    }
   ],
   "source": [
    "# Concateção dos DataFrames\n",
    "df_filmes = df_filmes.merge(df_creditos, on='title') # on='title' -> chave de junção\n",
    "df_filmes.info()"
   ]
  },
  {
   "cell_type": "code",
   "execution_count": 38,
   "metadata": {},
   "outputs": [],
   "source": [
    "# Seleção de colunas relevantes\n",
    "df_filmes = df_filmes[['movie_id','title', 'overview','genres', 'cast', 'keywords', 'crew']] "
   ]
  },
  {
   "cell_type": "code",
   "execution_count": 39,
   "metadata": {},
   "outputs": [
    {
     "name": "stdout",
     "output_type": "stream",
     "text": [
      "movie_id    0\n",
      "title       0\n",
      "overview    3\n",
      "genres      0\n",
      "cast        0\n",
      "keywords    0\n",
      "crew        0\n",
      "dtype: int64\n",
      "Valores duplicados:  0\n"
     ]
    }
   ],
   "source": [
    "# Verificação de valores nulos e remoção\n",
    "print(df_filmes.isnull().sum())\n",
    "df_filmes.dropna(inplace=True)\n",
    "\n",
    "# Presemça de valores duplicados\n",
    "print('Valores duplicados: ', df_filmes.duplicated().sum())\n"
   ]
  },
  {
   "cell_type": "code",
   "execution_count": 40,
   "metadata": {},
   "outputs": [],
   "source": [
    "# Tratamento para converter as colunas em listas\n",
    "def convert_col_to_list(col):\n",
    "    \"\"\"Converte a coluna em uma lista\"\"\"\n",
    "    if isinstance(col, list):\n",
    "        return [i['name'] for i in col]\n",
    "    else:\n",
    "        return []\n",
    "\n",
    "df_filmes['genres'] = df_filmes['genres'].apply(ast.literal_eval).apply(convert_col_to_list) # ast.literal_eval -> converte a string em lista\n",
    "df_filmes['cast'] = df_filmes['cast'].apply(ast.literal_eval).apply(convert_col_to_list)\n",
    "df_filmes['keywords'] = df_filmes['keywords'].apply(ast.literal_eval).apply(convert_col_to_list)\n",
    "\n",
    "# Filtra o nome do diretor\n",
    "def get_diretor(col):\n",
    "    \"\"\"Filtra o nome do diretor\"\"\"\n",
    "    for i in col:\n",
    "        if i['job'] == 'Director':\n",
    "            return i['name']\n",
    "    return np.nan\n",
    "\n",
    "df_filmes['director'] = df_filmes['crew'].apply(ast.literal_eval).apply(get_diretor)\n",
    "df_filmes.drop('crew', axis=1, inplace=True)"
   ]
  },
  {
   "cell_type": "code",
   "execution_count": 41,
   "metadata": {},
   "outputs": [],
   "source": [
    "# Título em maiusculo\n",
    "df_filmes['title'] = df_filmes['title'].str.upper()"
   ]
  },
  {
   "cell_type": "code",
   "execution_count": 42,
   "metadata": {},
   "outputs": [],
   "source": [
    "# Conversão de overview e director para lista\n",
    "df_filmes['overview'] = df_filmes['overview'].apply(lambda x: x.split())\n",
    "df_filmes['director'] = df_filmes['director'].apply(lambda x: [x])"
   ]
  },
  {
   "cell_type": "code",
   "execution_count": 43,
   "metadata": {},
   "outputs": [],
   "source": [
    "# Remoção de espaços em branco\n",
    "def remove_space(col):\n",
    "    \"\"\"Remove os espaços em branco\"\"\"\n",
    "    if isinstance(col, list):\n",
    "        return [str.lower(i.replace(\" \", \"\")) for i in col]\n",
    "    else:\n",
    "        if isinstance(col, str):\n",
    "            return str.lower(col.replace(\" \", \"\"))\n",
    "        else:\n",
    "            return ''\n",
    "\n",
    "# Aplicação da função\n",
    "df_filmes['genres'] = df_filmes['genres'].apply(remove_space)\n",
    "df_filmes['cast'] = df_filmes['cast'].apply(remove_space)\n",
    "df_filmes['keywords'] = df_filmes['keywords'].apply(remove_space)\n",
    "df_filmes['director'] = df_filmes['director'].apply(remove_space) if isinstance(df_filmes['director'], str) else df_filmes['director']\n"
   ]
  },
  {
   "cell_type": "code",
   "execution_count": 44,
   "metadata": {},
   "outputs": [],
   "source": [
    "# Criação de uma coluna com os dados concatenados\n",
    "df_filmes['metadata'] = df_filmes['overview'] + df_filmes['genres'] + df_filmes['keywords'] + df_filmes['cast'] + df_filmes['director']"
   ]
  },
  {
   "cell_type": "code",
   "execution_count": 45,
   "metadata": {},
   "outputs": [],
   "source": [
    "# Cria um novo DataFrame com as colunas relevantes\n",
    "df_filmes = df_filmes[['movie_id','title','metadata']]"
   ]
  },
  {
   "cell_type": "code",
   "execution_count": 46,
   "metadata": {},
   "outputs": [],
   "source": [
    "# Restauração dos espaços em branco\n",
    "df_filmes['metadata'] = df_filmes['metadata'].apply(lambda x: ' '.join(str(i) for i in x)) # str(i) -> converte o valor em string para poder usar o join"
   ]
  },
  {
   "cell_type": "code",
   "execution_count": 47,
   "metadata": {},
   "outputs": [],
   "source": [
    "# Transformação dos dados para minúsculo\n",
    "df_filmes['metadata'] = df_filmes['metadata'].str.lower()"
   ]
  },
  {
   "cell_type": "markdown",
   "metadata": {},
   "source": [
    "### Análise de linguagem natural"
   ]
  },
  {
   "cell_type": "code",
   "execution_count": 48,
   "metadata": {},
   "outputs": [],
   "source": [
    "from sklearn.feature_extraction.text import CountVectorizer # CountVectorizer -> cria uma matriz de contagem de token\n",
    "from sklearn.metrics.pairwise import cosine_similarity # cosine_similarity -> calcula a similaridade entre os vetores\n",
    "\n",
    "count_vec = CountVectorizer(max_features= 5000 ,stop_words='english') # stop_words='english' -> remove as palavras 'inúteis' em inglês\n",
    "vetores = count_vec.fit_transform(df_filmes['metadata']).toarray() # fit_transform -> transforma os dados em uma matriz de contagem de token"
   ]
  },
  {
   "cell_type": "code",
   "execution_count": 49,
   "metadata": {},
   "outputs": [],
   "source": [
    "# Uso de linguagem natural para encontrar a similaridade entre os filmes\n",
    "from nltk.stem.porter import PorterStemmer # PorterStemmer -> reduz as palavras para o seu radical\n",
    "\n",
    "port_strem = PorterStemmer()\n",
    "\n",
    "def stemmer(col):\n",
    "    \"\"\"Reduz as palavras para o seu radical\"\"\"\n",
    "    return [port_strem.stem(i) for i in col]\n",
    "\n",
    "# Aplicação da função\n",
    "df_filmes['metadata'] = df_filmes['metadata'].apply(lambda x: stemmer(x.split()))"
   ]
  },
  {
   "cell_type": "code",
   "execution_count": 50,
   "metadata": {},
   "outputs": [],
   "source": [
    "similaridade = cosine_similarity(vetores) # Calcula a similaridade entre os vetores\n",
    "\n",
    "# Ordenação dos filmes por similaridade\n",
    "def recomendacao_filmes(filme):\n",
    "    \"\"\"Recomenda os filmes com base na similaridade\"\"\"\n",
    "    filme = filme.upper()\n",
    "    if filme not in df_filmes['title'].unique():\n",
    "        return 'Filme não encontrado'\n",
    "    else:\n",
    "        index_filme = df_filmes.loc[df_filmes['title'] == filme].index[0]\n",
    "        filmes_similares = sorted(list(enumerate(similaridade[index_filme])), key=lambda x: x[1], reverse=True)[1:11]\n",
    "        for i in filmes_similares:\n",
    "            print(df_filmes.iloc[i[0]]['title'])"
   ]
  },
  {
   "cell_type": "markdown",
   "metadata": {},
   "source": [
    "### Sugestões de filmes"
   ]
  },
  {
   "cell_type": "code",
   "execution_count": 51,
   "metadata": {},
   "outputs": [
    {
     "name": "stdout",
     "output_type": "stream",
     "text": [
      "BLACK BOOK\n",
      "SAINTS AND SOLDIERS\n",
      "SCHINDLER'S LIST\n",
      "U-571\n",
      "WOMAN IN GOLD\n",
      "FURY\n",
      "RED TAILS\n",
      "THE TRAIN\n",
      "THE GREAT ESCAPE\n",
      "GODS AND GENERALS\n"
     ]
    }
   ],
   "source": [
    "# Exibição dos filmes recomendados para o filme Bastardos Inglórios\n",
    "recomendacao_filmes('Inglourious Basterds')"
   ]
  }
 ],
 "metadata": {
  "kernelspec": {
   "display_name": "Python 3",
   "language": "python",
   "name": "python3"
  },
  "language_info": {
   "codemirror_mode": {
    "name": "ipython",
    "version": 3
   },
   "file_extension": ".py",
   "mimetype": "text/x-python",
   "name": "python",
   "nbconvert_exporter": "python",
   "pygments_lexer": "ipython3",
   "version": "3.9.6"
  }
 },
 "nbformat": 4,
 "nbformat_minor": 2
}
